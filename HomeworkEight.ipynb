{
 "cells": [
  {
   "cell_type": "markdown",
   "metadata": {},
   "source": [
    "# MANE 4333\n",
    "## Homework 6 (due November 11, 2024)\n",
    "## Your Name"
   ]
  },
  {
   "cell_type": "code",
   "execution_count": 33,
   "metadata": {},
   "outputs": [
    {
     "data": {
      "text/html": [
       "<div>\n",
       "<style scoped>\n",
       "    .dataframe tbody tr th:only-of-type {\n",
       "        vertical-align: middle;\n",
       "    }\n",
       "\n",
       "    .dataframe tbody tr th {\n",
       "        vertical-align: top;\n",
       "    }\n",
       "\n",
       "    .dataframe thead th {\n",
       "        text-align: right;\n",
       "    }\n",
       "</style>\n",
       "<table border=\"1\" class=\"dataframe\">\n",
       "  <thead>\n",
       "    <tr style=\"text-align: right;\">\n",
       "      <th></th>\n",
       "      <th>pIncidence</th>\n",
       "      <th>pTilt</th>\n",
       "      <th>llAngle</th>\n",
       "      <th>sSlope</th>\n",
       "      <th>pRadius</th>\n",
       "      <th>spon</th>\n",
       "      <th>classification</th>\n",
       "    </tr>\n",
       "  </thead>\n",
       "  <tbody>\n",
       "    <tr>\n",
       "      <th>0</th>\n",
       "      <td>39.06</td>\n",
       "      <td>10.06</td>\n",
       "      <td>25.02</td>\n",
       "      <td>29.00</td>\n",
       "      <td>114.41</td>\n",
       "      <td>4.56</td>\n",
       "      <td>AB</td>\n",
       "    </tr>\n",
       "    <tr>\n",
       "      <th>1</th>\n",
       "      <td>68.83</td>\n",
       "      <td>22.22</td>\n",
       "      <td>50.09</td>\n",
       "      <td>46.61</td>\n",
       "      <td>105.99</td>\n",
       "      <td>-3.53</td>\n",
       "      <td>AB</td>\n",
       "    </tr>\n",
       "    <tr>\n",
       "      <th>2</th>\n",
       "      <td>69.30</td>\n",
       "      <td>24.65</td>\n",
       "      <td>44.31</td>\n",
       "      <td>44.64</td>\n",
       "      <td>101.87</td>\n",
       "      <td>11.21</td>\n",
       "      <td>AB</td>\n",
       "    </tr>\n",
       "    <tr>\n",
       "      <th>3</th>\n",
       "      <td>49.71</td>\n",
       "      <td>9.65</td>\n",
       "      <td>28.32</td>\n",
       "      <td>40.06</td>\n",
       "      <td>108.17</td>\n",
       "      <td>7.92</td>\n",
       "      <td>AB</td>\n",
       "    </tr>\n",
       "    <tr>\n",
       "      <th>4</th>\n",
       "      <td>40.25</td>\n",
       "      <td>13.92</td>\n",
       "      <td>25.12</td>\n",
       "      <td>26.33</td>\n",
       "      <td>130.33</td>\n",
       "      <td>2.23</td>\n",
       "      <td>AB</td>\n",
       "    </tr>\n",
       "  </tbody>\n",
       "</table>\n",
       "</div>"
      ],
      "text/plain": [
       "   pIncidence  pTilt  llAngle  sSlope  pRadius   spon classification\n",
       "0       39.06  10.06    25.02   29.00   114.41   4.56             AB\n",
       "1       68.83  22.22    50.09   46.61   105.99  -3.53             AB\n",
       "2       69.30  24.65    44.31   44.64   101.87  11.21             AB\n",
       "3       49.71   9.65    28.32   40.06   108.17   7.92             AB\n",
       "4       40.25  13.92    25.12   26.33   130.33   2.23             AB"
      ]
     },
     "execution_count": 33,
     "metadata": {},
     "output_type": "execute_result"
    }
   ],
   "source": [
    "# Python cell to read data from file into dataframe df\n",
    "import pandas as pd\n",
    "df=pd.read_csv('column_2C.DAT',delimiter=' ')\n",
    "df.columns=['pIncidence','pTilt','llAngle','sSlope','pRadius','spon','classification']\n",
    "df.head()"
   ]
  },
  {
   "cell_type": "code",
   "execution_count": 34,
   "metadata": {},
   "outputs": [
    {
     "name": "stdout",
     "output_type": "stream",
     "text": [
      "start of Problem 1 Solution\n"
     ]
    }
   ],
   "source": [
    "# Problem 1 \n",
    "'''\n",
    "  Use the technique presented in Jupyter Example 2 to determine the \n",
    "  optimal value of *k* using KNeighborsClassifier. Prepare a plot and \n",
    "  add a print statement to the Problem 1 cell to state the optimal \n",
    "  value of *k*. Make sure to set a seed value so the results do not change.\n",
    " '''\n",
    "\n",
    "print(\"start of Problem 1 Solution\")"
   ]
  },
  {
   "cell_type": "code",
   "execution_count": 35,
   "metadata": {},
   "outputs": [
    {
     "name": "stdout",
     "output_type": "stream",
     "text": [
      "start of Problem 2 Solution\n"
     ]
    }
   ],
   "source": [
    "# Problem 2\n",
    "'''\n",
    "Implement a k-nearest neighbor classifier using the \n",
    "value of *k* founding in Problem 1. Print the training \n",
    "set and testing set accuracies.\n",
    "'''\n",
    "\n",
    "print(\"start of Problem 2 Solution\")"
   ]
  },
  {
   "cell_type": "code",
   "execution_count": 36,
   "metadata": {},
   "outputs": [
    {
     "name": "stdout",
     "output_type": "stream",
     "text": [
      "Start of Problem 3\n"
     ]
    }
   ],
   "source": [
    "# Problem 3\n",
    "'''\n",
    "Calculate a text-based confusion matrix for the model trained \n",
    "in Problem 2. Also generate a normalized and non-normalized \n",
    "graphical confusion matrix for the model from Problem 2.\n",
    "'''\n",
    "\n",
    "print(\"Start of Problem 3\")\n",
    "\n"
   ]
  },
  {
   "cell_type": "code",
   "execution_count": 37,
   "metadata": {},
   "outputs": [
    {
     "name": "stdout",
     "output_type": "stream",
     "text": [
      "Start of Problem 4\n"
     ]
    }
   ],
   "source": [
    "# Problem 4\n",
    "'''\n",
    "Use a six-fold cross-validation of the *k*-nearest neighbor \n",
    "classifier using the value of *k* found in Problem 2. \n",
    "Print the accuracy for the six different folds and \n",
    "the overall average of the six-fold cross-validation model.\n",
    "'''\n",
    "\n",
    "print(\"Start of Problem 4\")"
   ]
  }
 ],
 "metadata": {
  "kernelspec": {
   "display_name": "Python 3 (ipykernel)",
   "language": "python",
   "name": "python3"
  },
  "language_info": {
   "codemirror_mode": {
    "name": "ipython",
    "version": 3
   },
   "file_extension": ".py",
   "mimetype": "text/x-python",
   "name": "python",
   "nbconvert_exporter": "python",
   "pygments_lexer": "ipython3",
   "version": "3.12.4"
  }
 },
 "nbformat": 4,
 "nbformat_minor": 4
}
